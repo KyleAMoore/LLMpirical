{
  "cells": [
    {
      "cell_type": "markdown",
      "metadata": {
        "id": "view-in-github",
        "colab_type": "text"
      },
      "source": [
        "<a href=\"https://colab.research.google.com/github/MissOseremhen/LLMpirical/blob/main/lorem_token.ipynb\" target=\"_parent\"><img src=\"https://colab.research.google.com/assets/colab-badge.svg\" alt=\"Open In Colab\"/></a>"
      ]
    },
    {
      "cell_type": "markdown",
      "source": [],
      "metadata": {
        "id": "q19wnTFyEREM"
      }
    },
    {
      "cell_type": "code",
      "execution_count": 2,
      "metadata": {
        "colab": {
          "base_uri": "https://localhost:8080/"
        },
        "id": "Jo-Optti8h6A",
        "outputId": "c1ce07c0-fa28-4d55-8580-b9f7143f898f"
      },
      "outputs": [
        {
          "output_type": "stream",
          "name": "stdout",
          "text": [
            "Collecting lorem\n",
            "  Downloading lorem-0.1.1-py3-none-any.whl (5.0 kB)\n",
            "Installing collected packages: lorem\n",
            "Successfully installed lorem-0.1.1\n",
            "Requirement already satisfied: transformers in /usr/local/lib/python3.10/dist-packages (4.41.2)\n",
            "Requirement already satisfied: filelock in /usr/local/lib/python3.10/dist-packages (from transformers) (3.15.4)\n",
            "Requirement already satisfied: huggingface-hub<1.0,>=0.23.0 in /usr/local/lib/python3.10/dist-packages (from transformers) (0.23.4)\n",
            "Requirement already satisfied: numpy>=1.17 in /usr/local/lib/python3.10/dist-packages (from transformers) (1.25.2)\n",
            "Requirement already satisfied: packaging>=20.0 in /usr/local/lib/python3.10/dist-packages (from transformers) (24.1)\n",
            "Requirement already satisfied: pyyaml>=5.1 in /usr/local/lib/python3.10/dist-packages (from transformers) (6.0.1)\n",
            "Requirement already satisfied: regex!=2019.12.17 in /usr/local/lib/python3.10/dist-packages (from transformers) (2024.5.15)\n",
            "Requirement already satisfied: requests in /usr/local/lib/python3.10/dist-packages (from transformers) (2.31.0)\n",
            "Requirement already satisfied: tokenizers<0.20,>=0.19 in /usr/local/lib/python3.10/dist-packages (from transformers) (0.19.1)\n",
            "Requirement already satisfied: safetensors>=0.4.1 in /usr/local/lib/python3.10/dist-packages (from transformers) (0.4.3)\n",
            "Requirement already satisfied: tqdm>=4.27 in /usr/local/lib/python3.10/dist-packages (from transformers) (4.66.4)\n",
            "Requirement already satisfied: fsspec>=2023.5.0 in /usr/local/lib/python3.10/dist-packages (from huggingface-hub<1.0,>=0.23.0->transformers) (2023.6.0)\n",
            "Requirement already satisfied: typing-extensions>=3.7.4.3 in /usr/local/lib/python3.10/dist-packages (from huggingface-hub<1.0,>=0.23.0->transformers) (4.12.2)\n",
            "Requirement already satisfied: charset-normalizer<4,>=2 in /usr/local/lib/python3.10/dist-packages (from requests->transformers) (3.3.2)\n",
            "Requirement already satisfied: idna<4,>=2.5 in /usr/local/lib/python3.10/dist-packages (from requests->transformers) (3.7)\n",
            "Requirement already satisfied: urllib3<3,>=1.21.1 in /usr/local/lib/python3.10/dist-packages (from requests->transformers) (2.0.7)\n",
            "Requirement already satisfied: certifi>=2017.4.17 in /usr/local/lib/python3.10/dist-packages (from requests->transformers) (2024.6.2)\n"
          ]
        }
      ],
      "source": [
        "!pip install lorem\n",
        "!pip install transformers\n"
      ]
    },
    {
      "cell_type": "code",
      "execution_count": 4,
      "metadata": {
        "colab": {
          "base_uri": "https://localhost:8080/",
          "height": 81,
          "referenced_widgets": [
            "4a09c7aaa5d24201a348ab6462808347",
            "6b8ea0976391417dad868f420f021bf0",
            "209fa916ba0e4352bed398ef0d25216b",
            "7e19f8de8c5b4613b24c646fe5999f3a",
            "13b3e8c2a06b4ca99313e24826218a32",
            "8318da0396144cf2bd123221c780d6ef",
            "dcf4f4370653416aafa6d41a8732fdb1",
            "92a91d56772a42b89bb9103fdd1d4e3b",
            "877b37f0f81e45bab7b1bbd04995ff99",
            "1da679e6a74940a3b1c43508d93956d2",
            "1e97aafec9124bbe935e57741facbe27",
            "21374a91cadd45a29f5b33fd4d41f4c4",
            "b7632fa4044c443d98a2ad34373bda96",
            "cdebe48fe2954f21af91cb6f808e1da8",
            "b29812cebf2d431894dd6abd791e2574",
            "3908d631011740169ad01382f1ee727d",
            "7bb98cf0a95b4299b0299875fa328574",
            "25877facdd654aa484bf3b391976fc0f",
            "676dd912e0654ddc8e8d7a249b911a1b",
            "7745280269fa4155b6515f9bad5d15ea",
            "a95f4a80201442c1a8d74386333f52f8",
            "1e6d0b302312408393e0199a16ca8e3f"
          ]
        },
        "id": "VNy5zif28quV",
        "outputId": "b79cba1b-ead7-45a8-c70f-426607f3d738"
      },
      "outputs": [
        {
          "output_type": "display_data",
          "data": {
            "text/plain": [
              "tokenizer.json:   0%|          | 0.00/1.96M [00:00<?, ?B/s]"
            ],
            "application/vnd.jupyter.widget-view+json": {
              "version_major": 2,
              "version_minor": 0,
              "model_id": "4a09c7aaa5d24201a348ab6462808347"
            }
          },
          "metadata": {}
        },
        {
          "output_type": "display_data",
          "data": {
            "text/plain": [
              "special_tokens_map.json:   0%|          | 0.00/414 [00:00<?, ?B/s]"
            ],
            "application/vnd.jupyter.widget-view+json": {
              "version_major": 2,
              "version_minor": 0,
              "model_id": "21374a91cadd45a29f5b33fd4d41f4c4"
            }
          },
          "metadata": {}
        }
      ],
      "source": [
        "import lorem\n",
        "from transformers import AutoModelForCausalLM, AutoTokenizer\n",
        "from google.colab import userdata\n",
        "import re\n",
        "import torch\n",
        "\n",
        "\n",
        "my_token = userdata.get('projects')\n",
        "\n",
        "\n",
        "model_id = \"mistralai/Mistral-7B-v0.3\"\n",
        "\n",
        "tokenizer = AutoTokenizer.from_pretrained(model_id, use_auth_token=my_token)\n"
      ]
    },
    {
      "cell_type": "code",
      "execution_count": 5,
      "metadata": {
        "id": "dT1YLpsU8zET"
      },
      "outputs": [],
      "source": [
        "def generate_lorem_text():\n",
        "    \"\"\"Generate a paragraph of Lorem Ipsum text.\"\"\"\n",
        "    return lorem.paragraph()\n"
      ]
    },
    {
      "cell_type": "code",
      "source": [
        "def clean_text(text):\n",
        "    \"\"\"\n",
        "    Clean text by removing non-alphanumeric characters except spaces and periods.\n",
        "    \"\"\"\n",
        "    return re.sub(r'[^a-zA-Z0-9\\s.]', '', text)"
      ],
      "metadata": {
        "id": "IgvB7rBomhqN"
      },
      "execution_count": 6,
      "outputs": []
    },
    {
      "cell_type": "code",
      "execution_count": 7,
      "metadata": {
        "id": "m1T69xJD82eJ"
      },
      "outputs": [],
      "source": [
        "def generate_tokens(text):\n",
        "    tokens = tokenizer(text)[\"input_ids\"]\n",
        "    print(len(tokens), type(tokens))\n",
        "\n",
        "    decoded_text = tokenizer.decode(tokens)\n",
        "    print(decoded_text)\n",
        "    if decoded_text.startswith(\"<s>\"):\n",
        "      decoded_text = decoded_text[3:]\n",
        "    return decoded_text\n"
      ]
    },
    {
      "cell_type": "code",
      "source": [
        "def generate_tokens_only(text):\n",
        "    tokens = tokenizer(text)[\"input_ids\"]\n",
        "    return tokens"
      ],
      "metadata": {
        "id": "xBlI6uobr3Zq"
      },
      "execution_count": 8,
      "outputs": []
    },
    {
      "cell_type": "markdown",
      "source": [],
      "metadata": {
        "id": "WVdtyMQDNZlY"
      }
    },
    {
      "cell_type": "code",
      "source": [
        "#Do not run cell\n",
        "\n",
        "\n",
        "\n",
        "def accumulate_until_k_tokens(initial_tokens, k):\n",
        "    total_tokens = initial_tokens\n",
        "    texts = []\n",
        "\n",
        "    while total_tokens < k:  # Continue until total_tokens is at least k\n",
        "        text = generate_lorem_text()\n",
        "        text = clean_text(text)\n",
        "        decoded_text = generate_tokens(text)\n",
        "        tokens = tokenizer(decoded_text)[\"input_ids\"]\n",
        "        total_tokens += len(tokens)\n",
        "        texts.append(text)\n",
        "\n",
        "        print(f\"Accumulated Tokens: {total_tokens}\")\n",
        "        print(f\"Target Tokens: {k}\")\n",
        "\n",
        "    return texts, total_tokens\n"
      ],
      "metadata": {
        "id": "ozbxjBhPnDrf"
      },
      "execution_count": null,
      "outputs": []
    },
    {
      "cell_type": "code",
      "source": [
        "def accumulate_exactly_k_tokens(k):\n",
        "  total_tokens = []\n",
        "  while len(total_tokens) < k:\n",
        "    text = generate_lorem_text()\n",
        "    text = clean_text(text)\n",
        "    tokens = generate_tokens_only(text)\n",
        "    total_tokens.extend(tokens)\n",
        "    if len(total_tokens) > k:\n",
        "      total_tokens = total_tokens[:k]\n",
        "\n",
        "  return total_tokens\n",
        "\n"
      ],
      "metadata": {
        "id": "nxqO9FAQqmUu"
      },
      "execution_count": 9,
      "outputs": []
    },
    {
      "cell_type": "code",
      "source": [
        "def accumulate_at_least_k_tokens(k):\n",
        "  total_tokens = []\n",
        "  while len(total_tokens) < k:\n",
        "    text = generate_lorem_text()\n",
        "    text = clean_text(text)\n",
        "    tokens = generate_tokens_only(text)\n",
        "    total_tokens.extend(tokens)\n",
        "\n",
        "\n",
        "  return total_tokens"
      ],
      "metadata": {
        "id": "FDDEAvHHtD1m"
      },
      "execution_count": 10,
      "outputs": []
    },
    {
      "cell_type": "code",
      "execution_count": 11,
      "metadata": {
        "colab": {
          "base_uri": "https://localhost:8080/"
        },
        "id": "9lLZRBwZ88F2",
        "outputId": "59af4164-5385-499b-8f4b-0eecfc3f7e42"
      },
      "outputs": [
        {
          "output_type": "stream",
          "name": "stdout",
          "text": [
            "Enter the target number of tokens: 726\n",
            "Tokens with exactly 726 tokens: 726\n",
            "Verified number of tokens (exactly k): 721\n",
            "Decoded Text (exactly k tokens): Labore consectetur aliquam numquam eius amet dolore. Etincidunt ipsum quiquia quaerat sit. Aliquam non aliquam ut porro porro aliquam. Eius est non ut. Ipsum magnam quisquam modi dolor. Dolore amet quisquam quisquam. Ipsum amet etincidunt dolorem est. Aliquam ipsum etincidunt sed eius amet quisquam. Non aliquam dolorem voluptatem. Sit numquam adipisci velit dolorem sed amet dolorem. Aliquam dolor quiquia non eius voluptatem. Numquam voluptatem etincidunt voluptatem. Sed adipisci dolorem quiquia modi. Etincidunt ut eius quiquia voluptatem. Numquam amet non dolor velit neque quisquam. Consectetur voluptatem modi adipisci etincidunt est. Est tempora eius dolor non quaerat sed. Quiquia velit tempora modi magnam. Consectetur voluptatem sed dolorem ipsum etincidunt est. Tempora neque quiquia porro etincidunt quiquia sed ut. Etincidunt sed dolore ipsum adipisci. Voluptatem magnam porro quaerat. Non amet eius etincidunt aliquam tempora modi neque. Numquam porro etincidunt ipsum porro. Amet porro quiquia eius. Non est quisquam amet dolor quaerat. Adipisci aliquam quiquia voluptatem magnam quisquam eius. Etincidunt ipsum quisquam voluptatem quaerat sit. Tempora sed ut labore aliquam. Voluptatem dolorem velit consectetur est. Labore sit dolorem etincidunt eius numquam velit sed. Velit ut labore sed velit. Voluptatem quiquia non velit voluptatem aliquam adipisci etincidunt. Non modi voluptatem quiquia. Dolor quiquia quaerat porro porro dolor quisquam dolor. Dolore dolore quiquia est etincidunt. Labore neque non modi sed sed magnam eius. Adipisci consectetur neque voluptatem quiquia porro. Quiquia quisquam non sed. Sit magnam voluptatem consectetur ut. Numquam amet consectetur non neque eius dolor aliquam. Dolore tempora amet dolore aliquam. Voluptatem eius tempora dolorem neque. Porro neque non tempora sed modi sit. Tempora labore dolor non consectetur sit dolor. Dolore modi adipisci eius numquam velit. Etincidunt voluptatem consectetur consectetur eius magnam quisquam aliquam. Labore\n",
            "Tokens with at least 726 tokens: 736\n",
            "Verified number of tokens (at least k): 730\n",
            "Decoded Text (at least k tokens): Porro velit neque neque ut amet eius. Dolore adipisci dolore ut amet dolore. Sit sit dolor est. Etincidunt amet quaerat labore. Sit amet quaerat quaerat quisquam adipisci. Ut adipisci velit consectetur tempora est. Aliquam ut adipisci labore ipsum. Dolor numquam dolore voluptatem sed numquam amet non. Dolor sit neque eius. Dolore voluptatem dolore modi quisquam dolorem. Eius est consectetur dolorem velit adipisci labore quiquia. Dolorem sit sit ut quaerat magnam consectetur. Quiquia sed consectetur dolor. Modi dolorem eius sit. Consectetur voluptatem sed magnam. Velit labore dolorem velit quaerat etincidunt quaerat numquam. Etincidunt quiquia eius eius ipsum non. Aliquam porro aliquam velit voluptatem. Sit ipsum quaerat amet. Adipisci velit ut tempora. Numquam quaerat adipisci numquam sit etincidunt. Amet porro eius sed. Sed quiquia magnam dolorem labore. Modi non sit quiquia magnam numquam quaerat numquam. Velit est eius labore est. Voluptatem amet tempora consectetur ipsum dolore est est. Modi magnam porro voluptatem dolor dolorem magnam. Est sit quisquam dolorem quisquam dolor sed adipisci. Aliquam ut amet ipsum dolor. Voluptatem sed est non neque quaerat consectetur aliquam. Magnam ut numquam numquam amet ut sit. Tempora aliquam porro adipisci aliquam amet velit. Eius numquam dolor adipisci. Numquam quiquia quaerat quaerat. Eius eius quaerat quisquam aliquam. Consectetur ipsum sed sit. Dolore dolorem modi dolore. Est etincidunt magnam quaerat numquam voluptatem numquam. Consectetur adipisci est labore consectetur voluptatem sit. Eius eius modi adipisci. Quiquia dolore voluptatem voluptatem. Quisquam non quaerat ipsum velit modi sed. Dolorem magnam eius ut voluptatem eius. Numquam quisquam eius velit. Magnam quisquam numquam aliquam. Quiquia numquam labore dolor amet. Sed etincidunt quiquia numquam. Est consectetur sed neque. Sit non sit eius dolore dolor voluptatem velit. Dolor porro modi numquam quiquia. Consectetur quisquam amet porro aliquam.\n"
          ]
        }
      ],
      "source": [
        "def main():\n",
        "\n",
        "    #text1 = generate_lorem_text()\n",
        "   # text1 = clean_text(text1)\n",
        "    #print(\"Generated Text 1:\\n\", text1)\n",
        "    #tokens1 = generate_tokens(text1)\n",
        "   #initial_token_count = len(tokenizer(tokens1)[\"input_ids\"])\n",
        "    #print(\"Tokens in Text 1:\", initial_token_count)\n",
        "\n",
        "    k = int(input(\"Enter the target number of tokens: \"))\n",
        "    tokens_exact_k = accumulate_exactly_k_tokens(k)\n",
        "    print(f\"Tokens with exactly {k} tokens:\", len(tokens_exact_k))\n",
        "    convert_to_tensor = torch.tensor(tokens_exact_k)  #converts to tensor\n",
        "    verify_token = tokenizer.decode(convert_to_tensor.tolist(), skip_special_tokens=True)\n",
        "    print(f\"Verified number of tokens (exactly k): {len(tokenizer(verify_token)['input_ids'])}\")\n",
        "    print(\"Decoded Text (exactly k tokens):\", verify_token)\n",
        "\n",
        "\n",
        "\n",
        "    tokens_at_least_k = accumulate_at_least_k_tokens(k)\n",
        "    print(f\"Tokens with at least {k} tokens:\", len(tokens_at_least_k))\n",
        "\n",
        "    tensor_at_least_k = torch.tensor(tokens_at_least_k)\n",
        "    verified_tokens_at_least_k = tokenizer.decode(tensor_at_least_k.tolist(), skip_special_tokens=True)\n",
        "    print(f\"Verified number of tokens (at least k): {len(tokenizer(verified_tokens_at_least_k)['input_ids'])}\")\n",
        "    print(\"Decoded Text (at least k tokens):\", verified_tokens_at_least_k)\n",
        "\n",
        "\n",
        "\n",
        "\n",
        "\n",
        "\n",
        "\n",
        "    #texts, total_tokens = accumulate_until_k_tokens(initial_token_count, k)\n",
        "    #print(f\"Final accumulated tokens: {total_tokens}\")\n",
        "\n",
        "# Run the main function\n",
        "if __name__ == \"__main__\":\n",
        "    main()"
      ]
    },
    {
      "cell_type": "code",
      "source": [],
      "metadata": {
        "id": "79eN-gUDylxs"
      },
      "execution_count": null,
      "outputs": []
    }
  ],
  "metadata": {
    "colab": {
      "provenance": [],
      "authorship_tag": "ABX9TyOEZrNJ6KZXpMKK1X8cc2XV",
      "include_colab_link": true
    },
    "kernelspec": {
      "display_name": "Python 3",
      "name": "python3"
    },
    "language_info": {
      "name": "python"
    },
    "widgets": {
      "application/vnd.jupyter.widget-state+json": {
        "4a09c7aaa5d24201a348ab6462808347": {
          "model_module": "@jupyter-widgets/controls",
          "model_name": "HBoxModel",
          "model_module_version": "1.5.0",
          "state": {
            "_dom_classes": [],
            "_model_module": "@jupyter-widgets/controls",
            "_model_module_version": "1.5.0",
            "_model_name": "HBoxModel",
            "_view_count": null,
            "_view_module": "@jupyter-widgets/controls",
            "_view_module_version": "1.5.0",
            "_view_name": "HBoxView",
            "box_style": "",
            "children": [
              "IPY_MODEL_6b8ea0976391417dad868f420f021bf0",
              "IPY_MODEL_209fa916ba0e4352bed398ef0d25216b",
              "IPY_MODEL_7e19f8de8c5b4613b24c646fe5999f3a"
            ],
            "layout": "IPY_MODEL_13b3e8c2a06b4ca99313e24826218a32"
          }
        },
        "6b8ea0976391417dad868f420f021bf0": {
          "model_module": "@jupyter-widgets/controls",
          "model_name": "HTMLModel",
          "model_module_version": "1.5.0",
          "state": {
            "_dom_classes": [],
            "_model_module": "@jupyter-widgets/controls",
            "_model_module_version": "1.5.0",
            "_model_name": "HTMLModel",
            "_view_count": null,
            "_view_module": "@jupyter-widgets/controls",
            "_view_module_version": "1.5.0",
            "_view_name": "HTMLView",
            "description": "",
            "description_tooltip": null,
            "layout": "IPY_MODEL_8318da0396144cf2bd123221c780d6ef",
            "placeholder": "​",
            "style": "IPY_MODEL_dcf4f4370653416aafa6d41a8732fdb1",
            "value": "tokenizer.json: 100%"
          }
        },
        "209fa916ba0e4352bed398ef0d25216b": {
          "model_module": "@jupyter-widgets/controls",
          "model_name": "FloatProgressModel",
          "model_module_version": "1.5.0",
          "state": {
            "_dom_classes": [],
            "_model_module": "@jupyter-widgets/controls",
            "_model_module_version": "1.5.0",
            "_model_name": "FloatProgressModel",
            "_view_count": null,
            "_view_module": "@jupyter-widgets/controls",
            "_view_module_version": "1.5.0",
            "_view_name": "ProgressView",
            "bar_style": "success",
            "description": "",
            "description_tooltip": null,
            "layout": "IPY_MODEL_92a91d56772a42b89bb9103fdd1d4e3b",
            "max": 1961548,
            "min": 0,
            "orientation": "horizontal",
            "style": "IPY_MODEL_877b37f0f81e45bab7b1bbd04995ff99",
            "value": 1961548
          }
        },
        "7e19f8de8c5b4613b24c646fe5999f3a": {
          "model_module": "@jupyter-widgets/controls",
          "model_name": "HTMLModel",
          "model_module_version": "1.5.0",
          "state": {
            "_dom_classes": [],
            "_model_module": "@jupyter-widgets/controls",
            "_model_module_version": "1.5.0",
            "_model_name": "HTMLModel",
            "_view_count": null,
            "_view_module": "@jupyter-widgets/controls",
            "_view_module_version": "1.5.0",
            "_view_name": "HTMLView",
            "description": "",
            "description_tooltip": null,
            "layout": "IPY_MODEL_1da679e6a74940a3b1c43508d93956d2",
            "placeholder": "​",
            "style": "IPY_MODEL_1e97aafec9124bbe935e57741facbe27",
            "value": " 1.96M/1.96M [00:00&lt;00:00, 2.33MB/s]"
          }
        },
        "13b3e8c2a06b4ca99313e24826218a32": {
          "model_module": "@jupyter-widgets/base",
          "model_name": "LayoutModel",
          "model_module_version": "1.2.0",
          "state": {
            "_model_module": "@jupyter-widgets/base",
            "_model_module_version": "1.2.0",
            "_model_name": "LayoutModel",
            "_view_count": null,
            "_view_module": "@jupyter-widgets/base",
            "_view_module_version": "1.2.0",
            "_view_name": "LayoutView",
            "align_content": null,
            "align_items": null,
            "align_self": null,
            "border": null,
            "bottom": null,
            "display": null,
            "flex": null,
            "flex_flow": null,
            "grid_area": null,
            "grid_auto_columns": null,
            "grid_auto_flow": null,
            "grid_auto_rows": null,
            "grid_column": null,
            "grid_gap": null,
            "grid_row": null,
            "grid_template_areas": null,
            "grid_template_columns": null,
            "grid_template_rows": null,
            "height": null,
            "justify_content": null,
            "justify_items": null,
            "left": null,
            "margin": null,
            "max_height": null,
            "max_width": null,
            "min_height": null,
            "min_width": null,
            "object_fit": null,
            "object_position": null,
            "order": null,
            "overflow": null,
            "overflow_x": null,
            "overflow_y": null,
            "padding": null,
            "right": null,
            "top": null,
            "visibility": null,
            "width": null
          }
        },
        "8318da0396144cf2bd123221c780d6ef": {
          "model_module": "@jupyter-widgets/base",
          "model_name": "LayoutModel",
          "model_module_version": "1.2.0",
          "state": {
            "_model_module": "@jupyter-widgets/base",
            "_model_module_version": "1.2.0",
            "_model_name": "LayoutModel",
            "_view_count": null,
            "_view_module": "@jupyter-widgets/base",
            "_view_module_version": "1.2.0",
            "_view_name": "LayoutView",
            "align_content": null,
            "align_items": null,
            "align_self": null,
            "border": null,
            "bottom": null,
            "display": null,
            "flex": null,
            "flex_flow": null,
            "grid_area": null,
            "grid_auto_columns": null,
            "grid_auto_flow": null,
            "grid_auto_rows": null,
            "grid_column": null,
            "grid_gap": null,
            "grid_row": null,
            "grid_template_areas": null,
            "grid_template_columns": null,
            "grid_template_rows": null,
            "height": null,
            "justify_content": null,
            "justify_items": null,
            "left": null,
            "margin": null,
            "max_height": null,
            "max_width": null,
            "min_height": null,
            "min_width": null,
            "object_fit": null,
            "object_position": null,
            "order": null,
            "overflow": null,
            "overflow_x": null,
            "overflow_y": null,
            "padding": null,
            "right": null,
            "top": null,
            "visibility": null,
            "width": null
          }
        },
        "dcf4f4370653416aafa6d41a8732fdb1": {
          "model_module": "@jupyter-widgets/controls",
          "model_name": "DescriptionStyleModel",
          "model_module_version": "1.5.0",
          "state": {
            "_model_module": "@jupyter-widgets/controls",
            "_model_module_version": "1.5.0",
            "_model_name": "DescriptionStyleModel",
            "_view_count": null,
            "_view_module": "@jupyter-widgets/base",
            "_view_module_version": "1.2.0",
            "_view_name": "StyleView",
            "description_width": ""
          }
        },
        "92a91d56772a42b89bb9103fdd1d4e3b": {
          "model_module": "@jupyter-widgets/base",
          "model_name": "LayoutModel",
          "model_module_version": "1.2.0",
          "state": {
            "_model_module": "@jupyter-widgets/base",
            "_model_module_version": "1.2.0",
            "_model_name": "LayoutModel",
            "_view_count": null,
            "_view_module": "@jupyter-widgets/base",
            "_view_module_version": "1.2.0",
            "_view_name": "LayoutView",
            "align_content": null,
            "align_items": null,
            "align_self": null,
            "border": null,
            "bottom": null,
            "display": null,
            "flex": null,
            "flex_flow": null,
            "grid_area": null,
            "grid_auto_columns": null,
            "grid_auto_flow": null,
            "grid_auto_rows": null,
            "grid_column": null,
            "grid_gap": null,
            "grid_row": null,
            "grid_template_areas": null,
            "grid_template_columns": null,
            "grid_template_rows": null,
            "height": null,
            "justify_content": null,
            "justify_items": null,
            "left": null,
            "margin": null,
            "max_height": null,
            "max_width": null,
            "min_height": null,
            "min_width": null,
            "object_fit": null,
            "object_position": null,
            "order": null,
            "overflow": null,
            "overflow_x": null,
            "overflow_y": null,
            "padding": null,
            "right": null,
            "top": null,
            "visibility": null,
            "width": null
          }
        },
        "877b37f0f81e45bab7b1bbd04995ff99": {
          "model_module": "@jupyter-widgets/controls",
          "model_name": "ProgressStyleModel",
          "model_module_version": "1.5.0",
          "state": {
            "_model_module": "@jupyter-widgets/controls",
            "_model_module_version": "1.5.0",
            "_model_name": "ProgressStyleModel",
            "_view_count": null,
            "_view_module": "@jupyter-widgets/base",
            "_view_module_version": "1.2.0",
            "_view_name": "StyleView",
            "bar_color": null,
            "description_width": ""
          }
        },
        "1da679e6a74940a3b1c43508d93956d2": {
          "model_module": "@jupyter-widgets/base",
          "model_name": "LayoutModel",
          "model_module_version": "1.2.0",
          "state": {
            "_model_module": "@jupyter-widgets/base",
            "_model_module_version": "1.2.0",
            "_model_name": "LayoutModel",
            "_view_count": null,
            "_view_module": "@jupyter-widgets/base",
            "_view_module_version": "1.2.0",
            "_view_name": "LayoutView",
            "align_content": null,
            "align_items": null,
            "align_self": null,
            "border": null,
            "bottom": null,
            "display": null,
            "flex": null,
            "flex_flow": null,
            "grid_area": null,
            "grid_auto_columns": null,
            "grid_auto_flow": null,
            "grid_auto_rows": null,
            "grid_column": null,
            "grid_gap": null,
            "grid_row": null,
            "grid_template_areas": null,
            "grid_template_columns": null,
            "grid_template_rows": null,
            "height": null,
            "justify_content": null,
            "justify_items": null,
            "left": null,
            "margin": null,
            "max_height": null,
            "max_width": null,
            "min_height": null,
            "min_width": null,
            "object_fit": null,
            "object_position": null,
            "order": null,
            "overflow": null,
            "overflow_x": null,
            "overflow_y": null,
            "padding": null,
            "right": null,
            "top": null,
            "visibility": null,
            "width": null
          }
        },
        "1e97aafec9124bbe935e57741facbe27": {
          "model_module": "@jupyter-widgets/controls",
          "model_name": "DescriptionStyleModel",
          "model_module_version": "1.5.0",
          "state": {
            "_model_module": "@jupyter-widgets/controls",
            "_model_module_version": "1.5.0",
            "_model_name": "DescriptionStyleModel",
            "_view_count": null,
            "_view_module": "@jupyter-widgets/base",
            "_view_module_version": "1.2.0",
            "_view_name": "StyleView",
            "description_width": ""
          }
        },
        "21374a91cadd45a29f5b33fd4d41f4c4": {
          "model_module": "@jupyter-widgets/controls",
          "model_name": "HBoxModel",
          "model_module_version": "1.5.0",
          "state": {
            "_dom_classes": [],
            "_model_module": "@jupyter-widgets/controls",
            "_model_module_version": "1.5.0",
            "_model_name": "HBoxModel",
            "_view_count": null,
            "_view_module": "@jupyter-widgets/controls",
            "_view_module_version": "1.5.0",
            "_view_name": "HBoxView",
            "box_style": "",
            "children": [
              "IPY_MODEL_b7632fa4044c443d98a2ad34373bda96",
              "IPY_MODEL_cdebe48fe2954f21af91cb6f808e1da8",
              "IPY_MODEL_b29812cebf2d431894dd6abd791e2574"
            ],
            "layout": "IPY_MODEL_3908d631011740169ad01382f1ee727d"
          }
        },
        "b7632fa4044c443d98a2ad34373bda96": {
          "model_module": "@jupyter-widgets/controls",
          "model_name": "HTMLModel",
          "model_module_version": "1.5.0",
          "state": {
            "_dom_classes": [],
            "_model_module": "@jupyter-widgets/controls",
            "_model_module_version": "1.5.0",
            "_model_name": "HTMLModel",
            "_view_count": null,
            "_view_module": "@jupyter-widgets/controls",
            "_view_module_version": "1.5.0",
            "_view_name": "HTMLView",
            "description": "",
            "description_tooltip": null,
            "layout": "IPY_MODEL_7bb98cf0a95b4299b0299875fa328574",
            "placeholder": "​",
            "style": "IPY_MODEL_25877facdd654aa484bf3b391976fc0f",
            "value": "special_tokens_map.json: 100%"
          }
        },
        "cdebe48fe2954f21af91cb6f808e1da8": {
          "model_module": "@jupyter-widgets/controls",
          "model_name": "FloatProgressModel",
          "model_module_version": "1.5.0",
          "state": {
            "_dom_classes": [],
            "_model_module": "@jupyter-widgets/controls",
            "_model_module_version": "1.5.0",
            "_model_name": "FloatProgressModel",
            "_view_count": null,
            "_view_module": "@jupyter-widgets/controls",
            "_view_module_version": "1.5.0",
            "_view_name": "ProgressView",
            "bar_style": "success",
            "description": "",
            "description_tooltip": null,
            "layout": "IPY_MODEL_676dd912e0654ddc8e8d7a249b911a1b",
            "max": 414,
            "min": 0,
            "orientation": "horizontal",
            "style": "IPY_MODEL_7745280269fa4155b6515f9bad5d15ea",
            "value": 414
          }
        },
        "b29812cebf2d431894dd6abd791e2574": {
          "model_module": "@jupyter-widgets/controls",
          "model_name": "HTMLModel",
          "model_module_version": "1.5.0",
          "state": {
            "_dom_classes": [],
            "_model_module": "@jupyter-widgets/controls",
            "_model_module_version": "1.5.0",
            "_model_name": "HTMLModel",
            "_view_count": null,
            "_view_module": "@jupyter-widgets/controls",
            "_view_module_version": "1.5.0",
            "_view_name": "HTMLView",
            "description": "",
            "description_tooltip": null,
            "layout": "IPY_MODEL_a95f4a80201442c1a8d74386333f52f8",
            "placeholder": "​",
            "style": "IPY_MODEL_1e6d0b302312408393e0199a16ca8e3f",
            "value": " 414/414 [00:00&lt;00:00, 23.4kB/s]"
          }
        },
        "3908d631011740169ad01382f1ee727d": {
          "model_module": "@jupyter-widgets/base",
          "model_name": "LayoutModel",
          "model_module_version": "1.2.0",
          "state": {
            "_model_module": "@jupyter-widgets/base",
            "_model_module_version": "1.2.0",
            "_model_name": "LayoutModel",
            "_view_count": null,
            "_view_module": "@jupyter-widgets/base",
            "_view_module_version": "1.2.0",
            "_view_name": "LayoutView",
            "align_content": null,
            "align_items": null,
            "align_self": null,
            "border": null,
            "bottom": null,
            "display": null,
            "flex": null,
            "flex_flow": null,
            "grid_area": null,
            "grid_auto_columns": null,
            "grid_auto_flow": null,
            "grid_auto_rows": null,
            "grid_column": null,
            "grid_gap": null,
            "grid_row": null,
            "grid_template_areas": null,
            "grid_template_columns": null,
            "grid_template_rows": null,
            "height": null,
            "justify_content": null,
            "justify_items": null,
            "left": null,
            "margin": null,
            "max_height": null,
            "max_width": null,
            "min_height": null,
            "min_width": null,
            "object_fit": null,
            "object_position": null,
            "order": null,
            "overflow": null,
            "overflow_x": null,
            "overflow_y": null,
            "padding": null,
            "right": null,
            "top": null,
            "visibility": null,
            "width": null
          }
        },
        "7bb98cf0a95b4299b0299875fa328574": {
          "model_module": "@jupyter-widgets/base",
          "model_name": "LayoutModel",
          "model_module_version": "1.2.0",
          "state": {
            "_model_module": "@jupyter-widgets/base",
            "_model_module_version": "1.2.0",
            "_model_name": "LayoutModel",
            "_view_count": null,
            "_view_module": "@jupyter-widgets/base",
            "_view_module_version": "1.2.0",
            "_view_name": "LayoutView",
            "align_content": null,
            "align_items": null,
            "align_self": null,
            "border": null,
            "bottom": null,
            "display": null,
            "flex": null,
            "flex_flow": null,
            "grid_area": null,
            "grid_auto_columns": null,
            "grid_auto_flow": null,
            "grid_auto_rows": null,
            "grid_column": null,
            "grid_gap": null,
            "grid_row": null,
            "grid_template_areas": null,
            "grid_template_columns": null,
            "grid_template_rows": null,
            "height": null,
            "justify_content": null,
            "justify_items": null,
            "left": null,
            "margin": null,
            "max_height": null,
            "max_width": null,
            "min_height": null,
            "min_width": null,
            "object_fit": null,
            "object_position": null,
            "order": null,
            "overflow": null,
            "overflow_x": null,
            "overflow_y": null,
            "padding": null,
            "right": null,
            "top": null,
            "visibility": null,
            "width": null
          }
        },
        "25877facdd654aa484bf3b391976fc0f": {
          "model_module": "@jupyter-widgets/controls",
          "model_name": "DescriptionStyleModel",
          "model_module_version": "1.5.0",
          "state": {
            "_model_module": "@jupyter-widgets/controls",
            "_model_module_version": "1.5.0",
            "_model_name": "DescriptionStyleModel",
            "_view_count": null,
            "_view_module": "@jupyter-widgets/base",
            "_view_module_version": "1.2.0",
            "_view_name": "StyleView",
            "description_width": ""
          }
        },
        "676dd912e0654ddc8e8d7a249b911a1b": {
          "model_module": "@jupyter-widgets/base",
          "model_name": "LayoutModel",
          "model_module_version": "1.2.0",
          "state": {
            "_model_module": "@jupyter-widgets/base",
            "_model_module_version": "1.2.0",
            "_model_name": "LayoutModel",
            "_view_count": null,
            "_view_module": "@jupyter-widgets/base",
            "_view_module_version": "1.2.0",
            "_view_name": "LayoutView",
            "align_content": null,
            "align_items": null,
            "align_self": null,
            "border": null,
            "bottom": null,
            "display": null,
            "flex": null,
            "flex_flow": null,
            "grid_area": null,
            "grid_auto_columns": null,
            "grid_auto_flow": null,
            "grid_auto_rows": null,
            "grid_column": null,
            "grid_gap": null,
            "grid_row": null,
            "grid_template_areas": null,
            "grid_template_columns": null,
            "grid_template_rows": null,
            "height": null,
            "justify_content": null,
            "justify_items": null,
            "left": null,
            "margin": null,
            "max_height": null,
            "max_width": null,
            "min_height": null,
            "min_width": null,
            "object_fit": null,
            "object_position": null,
            "order": null,
            "overflow": null,
            "overflow_x": null,
            "overflow_y": null,
            "padding": null,
            "right": null,
            "top": null,
            "visibility": null,
            "width": null
          }
        },
        "7745280269fa4155b6515f9bad5d15ea": {
          "model_module": "@jupyter-widgets/controls",
          "model_name": "ProgressStyleModel",
          "model_module_version": "1.5.0",
          "state": {
            "_model_module": "@jupyter-widgets/controls",
            "_model_module_version": "1.5.0",
            "_model_name": "ProgressStyleModel",
            "_view_count": null,
            "_view_module": "@jupyter-widgets/base",
            "_view_module_version": "1.2.0",
            "_view_name": "StyleView",
            "bar_color": null,
            "description_width": ""
          }
        },
        "a95f4a80201442c1a8d74386333f52f8": {
          "model_module": "@jupyter-widgets/base",
          "model_name": "LayoutModel",
          "model_module_version": "1.2.0",
          "state": {
            "_model_module": "@jupyter-widgets/base",
            "_model_module_version": "1.2.0",
            "_model_name": "LayoutModel",
            "_view_count": null,
            "_view_module": "@jupyter-widgets/base",
            "_view_module_version": "1.2.0",
            "_view_name": "LayoutView",
            "align_content": null,
            "align_items": null,
            "align_self": null,
            "border": null,
            "bottom": null,
            "display": null,
            "flex": null,
            "flex_flow": null,
            "grid_area": null,
            "grid_auto_columns": null,
            "grid_auto_flow": null,
            "grid_auto_rows": null,
            "grid_column": null,
            "grid_gap": null,
            "grid_row": null,
            "grid_template_areas": null,
            "grid_template_columns": null,
            "grid_template_rows": null,
            "height": null,
            "justify_content": null,
            "justify_items": null,
            "left": null,
            "margin": null,
            "max_height": null,
            "max_width": null,
            "min_height": null,
            "min_width": null,
            "object_fit": null,
            "object_position": null,
            "order": null,
            "overflow": null,
            "overflow_x": null,
            "overflow_y": null,
            "padding": null,
            "right": null,
            "top": null,
            "visibility": null,
            "width": null
          }
        },
        "1e6d0b302312408393e0199a16ca8e3f": {
          "model_module": "@jupyter-widgets/controls",
          "model_name": "DescriptionStyleModel",
          "model_module_version": "1.5.0",
          "state": {
            "_model_module": "@jupyter-widgets/controls",
            "_model_module_version": "1.5.0",
            "_model_name": "DescriptionStyleModel",
            "_view_count": null,
            "_view_module": "@jupyter-widgets/base",
            "_view_module_version": "1.2.0",
            "_view_name": "StyleView",
            "description_width": ""
          }
        }
      }
    }
  },
  "nbformat": 4,
  "nbformat_minor": 0
}